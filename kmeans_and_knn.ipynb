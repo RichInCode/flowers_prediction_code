{
 "cells": [
  {
   "cell_type": "markdown",
   "metadata": {},
   "source": [
    "## The objective is of this notebook is to build a model to determine the type of flower for a given set of measurements of sepal length, sepal width, petal length, petal width."
   ]
  },
  {
   "cell_type": "markdown",
   "metadata": {},
   "source": [
    "### Load some useful libraries for plotting and data I/O and manipulation."
   ]
  },
  {
   "cell_type": "code",
   "execution_count": 1,
   "metadata": {
    "collapsed": false
   },
   "outputs": [
    {
     "name": "stderr",
     "output_type": "stream",
     "text": [
      "C:\\Users\\Rich\\Anaconda2\\lib\\site-packages\\pandas\\computation\\__init__.py:19: UserWarning: The installed version of numexpr 2.4.4 is not supported in pandas and will be not be used\n",
      "\n",
      "  UserWarning)\n"
     ]
    }
   ],
   "source": [
    "%matplotlib inline\n",
    "\n",
    "import matplotlib\n",
    "import numpy as np\n",
    "import matplotlib.pyplot as plt\n",
    "\n",
    "import pandas as pd"
   ]
  },
  {
   "cell_type": "markdown",
   "metadata": {},
   "source": [
    "### Read in the csv file with the flower measurement data.  This is unsupervised, in that all we have in the data is the 4 measurements for each flower."
   ]
  },
  {
   "cell_type": "code",
   "execution_count": 2,
   "metadata": {
    "collapsed": true
   },
   "outputs": [],
   "source": [
    "df = pd.read_csv('flowers.csv',header=None)"
   ]
  },
  {
   "cell_type": "code",
   "execution_count": 3,
   "metadata": {
    "collapsed": false
   },
   "outputs": [
    {
     "data": {
      "text/html": [
       "<div>\n",
       "<table border=\"1\" class=\"dataframe\">\n",
       "  <thead>\n",
       "    <tr style=\"text-align: right;\">\n",
       "      <th></th>\n",
       "      <th>0</th>\n",
       "      <th>1</th>\n",
       "      <th>2</th>\n",
       "      <th>3</th>\n",
       "    </tr>\n",
       "  </thead>\n",
       "  <tbody>\n",
       "    <tr>\n",
       "      <th>0</th>\n",
       "      <td>5.1</td>\n",
       "      <td>3.5</td>\n",
       "      <td>1.4</td>\n",
       "      <td>0.2</td>\n",
       "    </tr>\n",
       "    <tr>\n",
       "      <th>1</th>\n",
       "      <td>4.9</td>\n",
       "      <td>3.0</td>\n",
       "      <td>1.4</td>\n",
       "      <td>0.2</td>\n",
       "    </tr>\n",
       "    <tr>\n",
       "      <th>2</th>\n",
       "      <td>4.7</td>\n",
       "      <td>3.2</td>\n",
       "      <td>1.3</td>\n",
       "      <td>0.2</td>\n",
       "    </tr>\n",
       "    <tr>\n",
       "      <th>3</th>\n",
       "      <td>4.6</td>\n",
       "      <td>3.1</td>\n",
       "      <td>1.5</td>\n",
       "      <td>0.2</td>\n",
       "    </tr>\n",
       "    <tr>\n",
       "      <th>4</th>\n",
       "      <td>5.0</td>\n",
       "      <td>3.6</td>\n",
       "      <td>1.4</td>\n",
       "      <td>0.2</td>\n",
       "    </tr>\n",
       "  </tbody>\n",
       "</table>\n",
       "</div>"
      ],
      "text/plain": [
       "     0    1    2    3\n",
       "0  5.1  3.5  1.4  0.2\n",
       "1  4.9  3.0  1.4  0.2\n",
       "2  4.7  3.2  1.3  0.2\n",
       "3  4.6  3.1  1.5  0.2\n",
       "4  5.0  3.6  1.4  0.2"
      ]
     },
     "execution_count": 3,
     "metadata": {},
     "output_type": "execute_result"
    }
   ],
   "source": [
    "df.head()"
   ]
  },
  {
   "cell_type": "markdown",
   "metadata": {},
   "source": [
    "### Its always good to look at the feature values.  Plot some histograms to look at the distribution and frequency of the values."
   ]
  },
  {
   "cell_type": "code",
   "execution_count": 4,
   "metadata": {
    "collapsed": false
   },
   "outputs": [
    {
     "data": {
      "text/plain": [
       "array([[<matplotlib.axes._subplots.AxesSubplot object at 0x0000000008542A20>,\n",
       "        <matplotlib.axes._subplots.AxesSubplot object at 0x000000000865B898>],\n",
       "       [<matplotlib.axes._subplots.AxesSubplot object at 0x000000000870BEB8>,\n",
       "        <matplotlib.axes._subplots.AxesSubplot object at 0x000000000881C780>]], dtype=object)"
      ]
     },
     "execution_count": 4,
     "metadata": {},
     "output_type": "execute_result"
    },
    {
     "data": {
      "image/png": "[encoded data removed]",
      "text/plain": [
       "<matplotlib.figure.Figure at 0x8542390>"
      ]
     },
     "metadata": {},
     "output_type": "display_data"
    }
   ],
   "source": [
    "df.hist()"
   ]
  },
  {
   "cell_type": "markdown",
   "metadata": {},
   "source": [
    "### No obvious spurious outliers.  But the plan for problem 2 is to build a clusterizing algorithm to group the flowers in the data based on the measurements.  This will be based on calculating the Euclidean distance between the points in the 4 dimensional space provided by the 4 measurements.  Thus it is wise to scale the data.  An existing function from sklearn is used for this purpose and done below.  The scaling scales the data so that it has a mean of zero and a standard deviation of one."
   ]
  },
  {
   "cell_type": "code",
   "execution_count": 5,
   "metadata": {
    "collapsed": false
   },
   "outputs": [
    {
     "data": {
      "text/plain": [
       "StandardScaler(copy=True, with_mean=True, with_std=True)"
      ]
     },
     "execution_count": 5,
     "metadata": {},
     "output_type": "execute_result"
    }
   ],
   "source": [
    "## normalize the features to have a mean of zero and a standard deviation of 1\n",
    "from sklearn.preprocessing import StandardScaler\n",
    "\n",
    "scaler = StandardScaler()\n",
    "scaler.fit(df)"
   ]
  },
  {
   "cell_type": "markdown",
   "metadata": {},
   "source": [
    "### Take a quick look at the scaled features below."
   ]
  },
  {
   "cell_type": "code",
   "execution_count": 6,
   "metadata": {
    "collapsed": false
   },
   "outputs": [
    {
     "data": {
      "image/png": "[encoded data removed]",
      "text/plain": [
       "<matplotlib.figure.Figure at 0xa27bc18>"
      ]
     },
     "metadata": {},
     "output_type": "display_data"
    }
   ],
   "source": [
    "data = scaler.transform(df)\n",
    "plt.hist(data,label=df.columns);\n",
    "plt.legend(loc='upper right');"
   ]
  },
  {
   "cell_type": "markdown",
   "metadata": {},
   "source": [
    "### Looks more or less reasonable."
   ]
  },
  {
   "cell_type": "markdown",
   "metadata": {},
   "source": [
    "## Problem 2 solution:\n",
    "### The clustering algorithm is built below.  The standard k-means algorithm is implemented.  The model is implemented with a k of three because it is known that the data contains three different flowers.  The code is written for this specific case and will only handle k=3.  The algorithm could be generalized, but in the interest of time to get a quick result, the scope of the algorithm is limited.\n",
    "### A series of helper functions is defined.  There is a function, init, to initialize the model and choose three random seeds.  There is a function, associatePoints, that calculates the (euclidean) distance of each data point to each of the seeds, and chooses to associate the data point with the seed that has the smallest distance away.  The function returns a dataframe containing the raw data, with an extra column added indicating the affiliation of that data point.  Lastly the function recenterSeeds recalculates the position of each seed based on the data associated with each seed.  This is done by calculating the centroid of the data in each group."
   ]
  },
  {
   "cell_type": "code",
   "execution_count": 7,
   "metadata": {
    "collapsed": false
   },
   "outputs": [],
   "source": [
    "def init():\n",
    "    startA = np.random.uniform(-3,3,size=(1,1,1,1))\n",
    "    startB = np.random.uniform(-3,3,size=(1,1,1,1))\n",
    "    startC = np.random.uniform(-3,3,size=(1,1,1,1))\n",
    "    \n",
    "    return startA, startB, startC\n",
    "    \n",
    "def associatePoints(data, startA, startB, startC):\n",
    "    associationlist = []\n",
    "    \n",
    "    # calculate distance of each data point to the seeds\n",
    "    for i in data:\n",
    "        tempA = np.linalg.norm(startA-i)\n",
    "        tempB = np.linalg.norm(startB-i)\n",
    "        tempC = np.linalg.norm(startC-i)\n",
    "        \n",
    "        if tempA < tempB:\n",
    "            associate = 'A'\n",
    "            if tempC < tempA:\n",
    "                associate = 'C'\n",
    "        else:\n",
    "            associate = 'B'\n",
    "            if tempC < tempB:\n",
    "                associate = 'C'\n",
    "                \n",
    "        associationlist.append(associate)\n",
    "    \n",
    "    df = pd.DataFrame(data)\n",
    "    df['type'] = associationlist\n",
    "    \n",
    "    return df\n",
    "\n",
    "def recenterSeeds(data):\n",
    "    # calculate the centroid\n",
    "    centroids = data.groupby('type').sum()/len(data)\n",
    "\n",
    "    centroids = centroids.values.tolist()\n",
    "    return centroids[0], centroids[1], centroids[2]\n",
    "\n",
    "def plotProgress(df, seedA, seedB, seedC):\n",
    "    ax = df[df['type']=='A'].plot(x=0,y=1, kind='scatter', color='Red')\n",
    "    df[df['type']=='B'].plot(x=0,y=1, kind='scatter', color='Green', ax=ax)\n",
    "    df[df['type']=='C'].plot(x=0,y=1, kind='scatter', color='Blue', ax=ax)\n",
    "    plt.plot(seedA[[0,1]], kind='scatter',color='Black', ax=ax)\n",
    "    plt.plot(seedB[[0,1]], kind='scatter',color='Black', ax=ax)\n",
    "    plt.plot(seedC[[0,1]], kind='scatter',color='Black', ax=ax)"
   ]
  },
  {
   "cell_type": "markdown",
   "metadata": {},
   "source": [
    "### Below is the implementation of the algorithm.  It returns a data frame with a column indicating the affiliation of the data point."
   ]
  },
  {
   "cell_type": "code",
   "execution_count": 8,
   "metadata": {
    "collapsed": true
   },
   "outputs": [],
   "source": [
    "def clusterizer(data, n):\n",
    "    \n",
    "    # initialize the algorithm by selecting initial seeds\n",
    "    seedA, seedB, seedC = init()\n",
    "    # find the initial associations\n",
    "    df = associatePoints(data, seedA, seedB, seedC)\n",
    "    #plotProgress(df, seedA, seedB, seedC)\n",
    "    \n",
    "    # recalcualte the seeds from the centroids of the points in each group and reassociate\n",
    "    # loop this a few times\n",
    "    for i in xrange(n):\n",
    "        seedA, seedB, seedC = recenterSeeds(df)\n",
    "        df = associatePoints(data, seedA, seedB, seedC)\n",
    "        #plotProgress(df, seedA, seedB, seedC)\n",
    "    \n",
    "    return df\n"
   ]
  },
  {
   "cell_type": "markdown",
   "metadata": {},
   "source": [
    "### Now run the algorithm.  It is possible in an iteration for one group to get no flowers in it.  Thus the alogrithm is set up to make another attempt if this is the case."
   ]
  },
  {
   "cell_type": "code",
   "execution_count": 9,
   "metadata": {
    "collapsed": false
   },
   "outputs": [
    {
     "data": {
      "text/plain": [
       "C    73\n",
       "A    50\n",
       "B    27\n",
       "Name: type, dtype: int64"
      ]
     },
     "execution_count": 9,
     "metadata": {},
     "output_type": "execute_result"
    }
   ],
   "source": [
    "for i in range(0,100):\n",
    "    while True:\n",
    "        try:\n",
    "            temp = clusterizer(data, 6)\n",
    "        except IndexError:\n",
    "            continue\n",
    "        break\n",
    "        \n",
    "df['type'] = temp['type']\n",
    "df['type'].value_counts()"
   ]
  },
  {
   "cell_type": "markdown",
   "metadata": {},
   "source": [
    "## Problem 2 a)\n",
    "### Scatter plots of pairwise variables\n",
    "#### 0 and 1 below"
   ]
  },
  {
   "cell_type": "code",
   "execution_count": 10,
   "metadata": {
    "collapsed": false
   },
   "outputs": [
    {
     "data": {
      "image/png": "[encoded data removed]",
      "text/plain": [
       "<matplotlib.figure.Figure at 0xa3e4b38>"
      ]
     },
     "metadata": {},
     "output_type": "display_data"
    }
   ],
   "source": [
    "df.plot(x=0,y=1, kind='scatter');"
   ]
  },
  {
   "cell_type": "markdown",
   "metadata": {},
   "source": [
    "#### features 1 and 2 below."
   ]
  },
  {
   "cell_type": "code",
   "execution_count": 11,
   "metadata": {
    "collapsed": false
   },
   "outputs": [
    {
     "data": {
      "text/plain": [
       "<matplotlib.axes._subplots.AxesSubplot at 0x9845438>"
      ]
     },
     "execution_count": 11,
     "metadata": {},
     "output_type": "execute_result"
    },
    {
     "data": {
      "image/png": "[encoded data removed]",
      "text/plain": [
       "<matplotlib.figure.Figure at 0x1a531518>"
      ]
     },
     "metadata": {},
     "output_type": "display_data"
    }
   ],
   "source": [
    "df.plot(x=1,y=2, kind='scatter')"
   ]
  },
  {
   "cell_type": "markdown",
   "metadata": {},
   "source": [
    "#### Features 2 and 3 below."
   ]
  },
  {
   "cell_type": "code",
   "execution_count": 12,
   "metadata": {
    "collapsed": false
   },
   "outputs": [
    {
     "data": {
      "text/plain": [
       "<matplotlib.axes._subplots.AxesSubplot at 0x1a4e8320>"
      ]
     },
     "execution_count": 12,
     "metadata": {},
     "output_type": "execute_result"
    },
    {
     "data": {
      "image/png": "[encoded data removed]",
      "text/plain": [
       "<matplotlib.figure.Figure at 0x1a4f63c8>"
      ]
     },
     "metadata": {},
     "output_type": "display_data"
    }
   ],
   "source": [
    "df.plot(x=2,y=3, kind='scatter')"
   ]
  },
  {
   "cell_type": "markdown",
   "metadata": {},
   "source": [
    "## Problem 2 b)\n",
    "### Recreate the same plots from a), but color code the points by group.\n",
    "#### Features 2 and 3 below."
   ]
  },
  {
   "cell_type": "code",
   "execution_count": 144,
   "metadata": {
    "collapsed": false
   },
   "outputs": [
    {
     "data": {
      "text/plain": [
       "<matplotlib.axes._subplots.AxesSubplot at 0x1b959c50>"
      ]
     },
     "execution_count": 144,
     "metadata": {},
     "output_type": "execute_result"
    },
    {
     "data": {
      "image/png": "[encoded data removed]",
      "text/plain": [
       "<matplotlib.figure.Figure at 0x1b959748>"
      ]
     },
     "metadata": {},
     "output_type": "display_data"
    }
   ],
   "source": [
    "ax = df[df['type']=='A'].plot(x=2,y=3, kind='scatter', color='Red')\n",
    "df[df['type']=='B'].plot(x=2,y=3, kind='scatter', color='Yellow', ax=ax)\n",
    "df[df['type']=='C'].plot(x=2,y=3, kind='scatter', color='Blue', ax=ax)"
   ]
  },
  {
   "cell_type": "markdown",
   "metadata": {},
   "source": [
    "#### Features 0 and 1 below."
   ]
  },
  {
   "cell_type": "code",
   "execution_count": 145,
   "metadata": {
    "collapsed": false
   },
   "outputs": [
    {
     "data": {
      "text/plain": [
       "<matplotlib.axes._subplots.AxesSubplot at 0x1b9da898>"
      ]
     },
     "execution_count": 145,
     "metadata": {},
     "output_type": "execute_result"
    },
    {
     "data": {
      "image/png": "[encoded data removed]",
      "text/plain": [
       "<matplotlib.figure.Figure at 0x1b9e6da0>"
      ]
     },
     "metadata": {},
     "output_type": "display_data"
    }
   ],
   "source": [
    "ax = df[df['type']=='A'].plot(x=0,y=1, kind='scatter', color='Red')\n",
    "df[df['type']=='B'].plot(x=0,y=1, kind='scatter', color='Yellow', ax=ax)\n",
    "df[df['type']=='C'].plot(x=0,y=1, kind='scatter', color='Blue', ax=ax)"
   ]
  },
  {
   "cell_type": "markdown",
   "metadata": {},
   "source": [
    "#### Feautres 1 and 2 below."
   ]
  },
  {
   "cell_type": "code",
   "execution_count": 146,
   "metadata": {
    "collapsed": false
   },
   "outputs": [
    {
     "data": {
      "text/plain": [
       "<matplotlib.axes._subplots.AxesSubplot at 0x1b894a20>"
      ]
     },
     "execution_count": 146,
     "metadata": {},
     "output_type": "execute_result"
    },
    {
     "data": {
      "image/png": "[encoded data removed]",
      "text/plain": [
       "<matplotlib.figure.Figure at 0x1b0b0b70>"
      ]
     },
     "metadata": {},
     "output_type": "display_data"
    }
   ],
   "source": [
    "ax = df[df['type']=='A'].plot(x=1,y=2, kind='scatter', color='Red')\n",
    "df[df['type']=='B'].plot(x=1,y=2, kind='scatter', color='Yellow', ax=ax)\n",
    "df[df['type']=='C'].plot(x=1,y=2, kind='scatter', color='Blue', ax=ax)"
   ]
  },
  {
   "cell_type": "markdown",
   "metadata": {},
   "source": [
    "## Problem 2 c)\n",
    "### Evaluate the effectiveness of the clusterizer model.  It is known that the first 50 data points are associated with one flower type, the next 50 with another, and the last 50 with the final flower type."
   ]
  },
  {
   "cell_type": "markdown",
   "metadata": {},
   "source": [
    "### Get the value counts for each known group to evaluate the purity of the grouping."
   ]
  },
  {
   "cell_type": "code",
   "execution_count": 16,
   "metadata": {
    "collapsed": false
   },
   "outputs": [
    {
     "data": {
      "text/plain": [
       "A    50\n",
       "Name: type, dtype: int64"
      ]
     },
     "execution_count": 16,
     "metadata": {},
     "output_type": "execute_result"
    }
   ],
   "source": [
    "shouldBeFlowerA = df['type'][:50]\n",
    "shouldBeFlowerA.value_counts()"
   ]
  },
  {
   "cell_type": "markdown",
   "metadata": {},
   "source": [
    "### The group of the first 50 points appear to be perfectly identified.\n",
    "### Check the middle group below."
   ]
  },
  {
   "cell_type": "code",
   "execution_count": 17,
   "metadata": {
    "collapsed": false
   },
   "outputs": [
    {
     "data": {
      "text/plain": [
       "B    26\n",
       "C    24\n",
       "Name: type, dtype: int64"
      ]
     },
     "execution_count": 17,
     "metadata": {},
     "output_type": "execute_result"
    }
   ],
   "source": [
    "shouldBeFlowerB = df['type'][50:100]\n",
    "shouldBeFlowerB.value_counts()"
   ]
  },
  {
   "cell_type": "markdown",
   "metadata": {},
   "source": [
    "### The middle group is not as successful, it looks nearly half of these flowers are mis-labeled.\n",
    "### Check the final group below."
   ]
  },
  {
   "cell_type": "code",
   "execution_count": 18,
   "metadata": {
    "collapsed": false
   },
   "outputs": [
    {
     "data": {
      "text/plain": [
       "C    49\n",
       "B     1\n",
       "Name: type, dtype: int64"
      ]
     },
     "execution_count": 18,
     "metadata": {},
     "output_type": "execute_result"
    }
   ],
   "source": [
    "shouldBeFlowerC = df['type'][100:150]\n",
    "shouldBeFlowerC.value_counts()"
   ]
  },
  {
   "cell_type": "markdown",
   "metadata": {},
   "source": [
    "### The final group also seems to be classified well.  It appears only one flower is mis-identified."
   ]
  },
  {
   "cell_type": "markdown",
   "metadata": {},
   "source": [
    "### To investigate this further, the profile of each group of flower is visualized below by producing histograms of the feautre values separated for each of the known flower groups."
   ]
  },
  {
   "cell_type": "code",
   "execution_count": 19,
   "metadata": {
    "collapsed": false
   },
   "outputs": [
    {
     "data": {
      "image/png": "[encoded data removed]",
      "text/plain": [
       "<matplotlib.figure.Figure at 0x1aaa0ba8>"
      ]
     },
     "metadata": {},
     "output_type": "display_data"
    }
   ],
   "source": [
    "plt.hist(df[0:50].drop('type',axis=1),label=df.drop('type',axis=1).columns);\n",
    "plt.legend(loc='upper right');"
   ]
  },
  {
   "cell_type": "code",
   "execution_count": 20,
   "metadata": {
    "collapsed": false
   },
   "outputs": [
    {
     "data": {
      "image/png": "[encoded data removed]",
      "text/plain": [
       "<matplotlib.figure.Figure at 0x1aeff5c0>"
      ]
     },
     "metadata": {},
     "output_type": "display_data"
    }
   ],
   "source": [
    "plt.hist(df[50:100].drop('type',axis=1),label=df.drop('type',axis=1).columns);\n",
    "plt.legend(loc='upper right');"
   ]
  },
  {
   "cell_type": "code",
   "execution_count": 21,
   "metadata": {
    "collapsed": false
   },
   "outputs": [
    {
     "data": {
      "image/png": "[encoded data removed]",
      "text/plain": [
       "<matplotlib.figure.Figure at 0xa43e240>"
      ]
     },
     "metadata": {},
     "output_type": "display_data"
    }
   ],
   "source": [
    "plt.hist(df[100:150].drop('type',axis=1),label=df.drop('type',axis=1).columns);\n",
    "plt.legend(loc='upper right');"
   ]
  },
  {
   "cell_type": "markdown",
   "metadata": {},
   "source": [
    "### By eye, it actually does look like the middle and last groups in the data have similar feature profiles.  There looks like there is strong overlap in the measured properties for these two type of flowers.  This can also be seen in the scatter plots shown for part 2 a).  It is not totally obvious by eye that there should be three groups."
   ]
  },
  {
   "cell_type": "code",
   "execution_count": 22,
   "metadata": {
    "collapsed": false
   },
   "outputs": [
    {
     "data": {
      "text/html": [
       "<div>\n",
       "<table border=\"1\" class=\"dataframe\">\n",
       "  <thead>\n",
       "    <tr style=\"text-align: right;\">\n",
       "      <th></th>\n",
       "      <th>0</th>\n",
       "      <th>1</th>\n",
       "      <th>2</th>\n",
       "      <th>3</th>\n",
       "    </tr>\n",
       "  </thead>\n",
       "  <tbody>\n",
       "    <tr>\n",
       "      <th>0</th>\n",
       "      <td>1.000000</td>\n",
       "      <td>-0.109369</td>\n",
       "      <td>0.871754</td>\n",
       "      <td>0.817954</td>\n",
       "    </tr>\n",
       "    <tr>\n",
       "      <th>1</th>\n",
       "      <td>-0.109369</td>\n",
       "      <td>1.000000</td>\n",
       "      <td>-0.420516</td>\n",
       "      <td>-0.356544</td>\n",
       "    </tr>\n",
       "    <tr>\n",
       "      <th>2</th>\n",
       "      <td>0.871754</td>\n",
       "      <td>-0.420516</td>\n",
       "      <td>1.000000</td>\n",
       "      <td>0.962757</td>\n",
       "    </tr>\n",
       "    <tr>\n",
       "      <th>3</th>\n",
       "      <td>0.817954</td>\n",
       "      <td>-0.356544</td>\n",
       "      <td>0.962757</td>\n",
       "      <td>1.000000</td>\n",
       "    </tr>\n",
       "  </tbody>\n",
       "</table>\n",
       "</div>"
      ],
      "text/plain": [
       "          0         1         2         3\n",
       "0  1.000000 -0.109369  0.871754  0.817954\n",
       "1 -0.109369  1.000000 -0.420516 -0.356544\n",
       "2  0.871754 -0.420516  1.000000  0.962757\n",
       "3  0.817954 -0.356544  0.962757  1.000000"
      ]
     },
     "execution_count": 22,
     "metadata": {},
     "output_type": "execute_result"
    }
   ],
   "source": [
    "df.drop('type',axis=1).corr()"
   ]
  },
  {
   "cell_type": "markdown",
   "metadata": {},
   "source": [
    "## Problem 3:\n",
    "### Using the known labels, build a k-nearest neigbors model using 5-fold cross validation for testing and to determine the optimal value of k.  Built in functions from Python's sklearn libraries used for both the k-nearest neighbors algorithm, as well as for the mechanics of the 5-fold cross validation would make this an easy excerise.  This is done below, but first the kknn algorithm and the cross validation code is written by hand.  A grid search is also done to find the best value of k to use in knn."
   ]
  },
  {
   "cell_type": "markdown",
   "metadata": {},
   "source": [
    "### Create a new data frame with the correct label for each data point."
   ]
  },
  {
   "cell_type": "code",
   "execution_count": 74,
   "metadata": {
    "collapsed": false
   },
   "outputs": [
    {
     "name": "stderr",
     "output_type": "stream",
     "text": [
      "C:\\Users\\Rich\\Anaconda2\\lib\\site-packages\\ipykernel\\__main__.py:3: SettingWithCopyWarning: \n",
      "A value is trying to be set on a copy of a slice from a DataFrame\n",
      "\n",
      "See the caveats in the documentation: http://pandas.pydata.org/pandas-docs/stable/indexing.html#indexing-view-versus-copy\n",
      "  app.launch_new_instance()\n",
      "C:\\Users\\Rich\\Anaconda2\\lib\\site-packages\\ipykernel\\__main__.py:4: SettingWithCopyWarning: \n",
      "A value is trying to be set on a copy of a slice from a DataFrame\n",
      "\n",
      "See the caveats in the documentation: http://pandas.pydata.org/pandas-docs/stable/indexing.html#indexing-view-versus-copy\n",
      "C:\\Users\\Rich\\Anaconda2\\lib\\site-packages\\ipykernel\\__main__.py:5: SettingWithCopyWarning: \n",
      "A value is trying to be set on a copy of a slice from a DataFrame\n",
      "\n",
      "See the caveats in the documentation: http://pandas.pydata.org/pandas-docs/stable/indexing.html#indexing-view-versus-copy\n"
     ]
    },
    {
     "data": {
      "text/plain": [
       "B    50\n",
       "C    50\n",
       "A    50\n",
       "Name: type, dtype: int64"
      ]
     },
     "execution_count": 74,
     "metadata": {},
     "output_type": "execute_result"
    }
   ],
   "source": [
    "labeled_df = pd.DataFrame(data)\n",
    "labeled_df['type'] = 'A'\n",
    "labeled_df['type'][0:50] = 'A'\n",
    "labeled_df['type'][50:100] = 'B'\n",
    "labeled_df['type'][100:150] = 'C'\n",
    "labeled_df['type'].value_counts()"
   ]
  },
  {
   "cell_type": "markdown",
   "metadata": {},
   "source": [
    "### Code up the knn algorithm"
   ]
  },
  {
   "cell_type": "code",
   "execution_count": 169,
   "metadata": {
    "collapsed": false
   },
   "outputs": [],
   "source": [
    "## my implementation of the knn algorithm\n",
    "\n",
    "import math\n",
    "import pandas as pd\n",
    "\n",
    "# returns the distance between two points in arbitrary dimensions\n",
    "## note that the vectors must be the same size or this will fail\n",
    "def euclidean_distance(vec1, vec2):    \n",
    "    temp = 0\n",
    "    for i in xrange(4):\n",
    "        temp += pow(float(vec1[i]) - float(vec2[i]), 2)\n",
    "\n",
    "    return math.sqrt(temp)\n",
    "\n",
    "# compute the distance between each data point in the sample and the test point\n",
    "# return a data frame with the distance to the point as a new column\n",
    "def get_distances(data, point):\n",
    "    distances = []\n",
    "\n",
    "    for i in xrange(len(data)):\n",
    "        temp = data.drop('type',axis=1).iloc[i].tolist()\n",
    "        distances.append( euclidean_distance(temp, point) )\n",
    "\n",
    "    data['dist'] = distances\n",
    "\n",
    "    return data\n",
    "\n",
    "# find the k points with the closest distance\n",
    "def findClosestPoints(data, k):\n",
    "    temp = data.sort_values('dist')[0:k]\n",
    "\n",
    "    return temp\n",
    "    \n",
    "# determine the label based on majority vote of near neighbors\n",
    "def determineLabel(data):\n",
    "    label = data['type'].value_counts(ascending=False).index[0]\n",
    "    \n",
    "    return label\n",
    "\n",
    "## evaluate the accuracy of the model\n",
    "def evaluate(data):\n",
    "    #print data\n",
    "    numberOfCorrect = len(data[data['type']==data['predicted_label']])\n",
    "\n",
    "    return float(numberOfCorrect)/len(data)\n",
    "\n",
    "## input expects a data frame with columns 0, 1, 2, 3, and type\n",
    "def train_knn_and_evaluate(data_train, data_test, k):\n",
    "\n",
    "    ## append the data frame with the distance \n",
    "    ##data_test['dist'] = data_test.drop('type', axis=1).apply(get_distances, args=(data_train))\n",
    "\n",
    "    labels_test = []\n",
    "    labels_train = []\n",
    "\n",
    "    ## testing set evaluation\n",
    "    for i in xrange(len(data_test)):\n",
    "        point = data_test.drop('type',axis=1).iloc[i].tolist()\n",
    "        temp = get_distances(data_train, point)\n",
    "        temp = findClosestPoints(temp, k)\n",
    "        label = determineLabel(temp)\n",
    "        labels_test.append(label)\n",
    "        \n",
    "    ## training set evaluation\n",
    "    for i in xrange(len(data_train)):\n",
    "        point = data_train.drop('type',axis=1).iloc[i].tolist()\n",
    "        temp = get_distances(data_train, point)\n",
    "        temp = findClosestPoints(temp, k)\n",
    "        label = determineLabel(temp)\n",
    "        labels_train.append(label)\n",
    "    \n",
    "    data_test['predicted_label'] = labels_test\n",
    "    data_train['predicted_label'] = labels_train\n",
    "\n",
    "    return evaluate(data_test), evaluate(data_train)\n"
   ]
  },
  {
   "cell_type": "markdown",
   "metadata": {},
   "source": [
    "### My implementation of the cross validation algorithm.  The idea is to split up the data into k equal parts.  Then train the model on the first k-1 parts, evaluating on the left out kth part.  The scores are averaged to get the final model score to get the smallest variance in the model."
   ]
  },
  {
   "cell_type": "code",
   "execution_count": 170,
   "metadata": {
    "collapsed": false
   },
   "outputs": [],
   "source": [
    "## my implemenation for cross-validation\n",
    "\n",
    "import numpy as np\n",
    "\n",
    "#def train_model(data, model, n_neighbors):\n",
    "    \n",
    "\n",
    "def cross_validation(data, k, model_parm):\n",
    "    ## split the data up into k pieces randomly\n",
    "    ## start determining how many pieces of data go into each segment\n",
    "    n = len(data)/k\n",
    "\n",
    "    scores_test = []\n",
    "    scores_train = []\n",
    "    holder = {}\n",
    "\n",
    "    ## choose a random set of row numbers for each fold\n",
    "    for i in xrange(len(data)):\n",
    "        temp = np.random.randint(0, k)\n",
    "        point = data.iloc[i].tolist()\n",
    "        try:\n",
    "            holder[temp].append(point)\n",
    "        except KeyError:\n",
    "            holder[temp] = [point]\n",
    "    \n",
    "    ## at this point, should have a dictionary holding the data for each fold\n",
    "    ## the last fold is the test fold not used in traing\n",
    "    data_test = pd.DataFrame(holder[k-1], columns = [0,1,2,3,'type'])\n",
    "    for i in xrange(0, k-1):\n",
    "        data_train = pd.DataFrame(holder[i], columns = [0,1,2,3,'type'])\n",
    "        temp = train_knn_and_evaluate(data_train, data_test, model_parm)\n",
    "        scores_test.append(temp[0])\n",
    "        scores_train.append(temp[1])\n",
    "        \n",
    "    \n",
    "    return np.mean(scores_test), np.std(scores_test), np.mean(scores_train), np.std(scores_train)\n"
   ]
  },
  {
   "cell_type": "markdown",
   "metadata": {},
   "source": [
    "### Now implement a grid search to find the best parameter"
   ]
  },
  {
   "cell_type": "code",
   "execution_count": 171,
   "metadata": {
    "collapsed": false
   },
   "outputs": [],
   "source": [
    "# the parameter values to test\n",
    "params = [1, 3, 5, 10, 20, 50]\n",
    "\n",
    "accuracytest_mean = []\n",
    "accuracytest_std = []\n",
    "accuracytrain_mean = []\n",
    "accuracytrain_std = []\n",
    "\n",
    "for i in params:\n",
    "    temp = cross_validation(labeled_df, 5, i)  # 5 for 5-fold cv\n",
    "    accuracytest_mean.append(temp[0])\n",
    "    accuracytest_std.append(temp[1])\n",
    "    accuracytrain_mean.append(temp[2])\n",
    "    accuracytrain_std.append(temp[3])"
   ]
  },
  {
   "cell_type": "markdown",
   "metadata": {},
   "source": [
    "## Problem 3 a)\n",
    "### plot the prediction error (or accuracy in this case which is 1 - error)"
   ]
  },
  {
   "cell_type": "code",
   "execution_count": 188,
   "metadata": {
    "collapsed": false
   },
   "outputs": [
    {
     "data": {
      "image/png": "[encoded data removed]",
      "text/plain": [
       "<matplotlib.figure.Figure at 0x1f0e1c88>"
      ]
     },
     "metadata": {},
     "output_type": "display_data"
    }
   ],
   "source": [
    "lw = 3\n",
    "\n",
    "plt.plot(params, accuracytest_mean, label='cross-validation score', lw=lw)\n",
    "\n",
    "plt.fill_between(params, np.array(accuracytest_mean) - np.array(accuracytest_std),\n",
    "                 np.array(accuracytest_mean) + np.array(accuracytest_std), alpha=0.2,\n",
    "                 color=\"navy\", lw=lw)\n",
    "\n",
    "plt.plot(params, accuracytrain_mean, label=\"training score\", color='darkorange', lw=lw)\n",
    "\n",
    "plt.fill_between(params, np.array(accuracytrain_mean) - np.array(accuracytrain_std),\n",
    "                 np.array(accuracytrain_mean) + np.array(accuracytrain_std), alpha=0.2,\n",
    "                 color=\"darkorange\", lw=lw)\n",
    "\n",
    "\n",
    "plt.ylim(0,1.1)\n",
    "plt.xticks(np.arange(0, 51, 5))\n",
    "plt.title(\"Validation Curve with KNN\")\n",
    "plt.xlabel(\"k\")\n",
    "plt.ylabel(\"accuracy\")\n",
    "plt.grid(True)\n",
    "plt.legend(loc=\"best\");"
   ]
  },
  {
   "cell_type": "markdown",
   "metadata": {},
   "source": [
    "### In the above plot, the training score shows the prediction accuracy on the training set.  The cross-validation score shows the prediction accuracy tested against the hold out testing set."
   ]
  },
  {
   "cell_type": "markdown",
   "metadata": {},
   "source": [
    "## Problem 3 b)\n",
    "### The value of k best suited to make predictions is about 5.  This value is chosen because it is where the training and cross-validation accuracy values are both similar and large.  Additionally, this is where the standard deviation of the results from the different folds is the smallest (indicated by the blue band), indicating a fairly stable model.  The accuracy changes with k as k controls the complexity of the model.  The most complex model (meaning the most flexible boundaries) is achieved with k=1.  As can be seen in the above plot, this is where the training and cross validation accuracies diverge, with the training accuracy rising and the cross validation accuracy falling.  This is a sign of overfitting.  The model is fitting extremely well to the noise of the training data (perfect when k=1), but does not generalize as well to the unseen testing data, where the accuracy drops to 0.8.  As k increases to larger values, the model does not have enough flexibility and as a result has larger bias and cannot interpret the overall trend.  The effect is that the accuracy for both the training and cross validation sets decrease."
   ]
  },
  {
   "cell_type": "markdown",
   "metadata": {},
   "source": [
    "### Below is the knn and GridSearchCV performed with sklearn's built-in functions."
   ]
  },
  {
   "cell_type": "code",
   "execution_count": 23,
   "metadata": {
    "collapsed": false
   },
   "outputs": [],
   "source": [
    "from sklearn.neighbors import KNeighborsClassifier\n",
    "from sklearn.learning_curve import validation_curve"
   ]
  },
  {
   "cell_type": "markdown",
   "metadata": {},
   "source": [
    "### Create a new data frame with the correct label for each data point."
   ]
  },
  {
   "cell_type": "code",
   "execution_count": 24,
   "metadata": {
    "collapsed": false
   },
   "outputs": [
    {
     "name": "stderr",
     "output_type": "stream",
     "text": [
      "C:\\Users\\Rich\\Anaconda2\\lib\\site-packages\\ipykernel\\__main__.py:2: SettingWithCopyWarning: \n",
      "A value is trying to be set on a copy of a slice from a DataFrame\n",
      "\n",
      "See the caveats in the documentation: http://pandas.pydata.org/pandas-docs/stable/indexing.html#indexing-view-versus-copy\n",
      "  from ipykernel import kernelapp as app\n",
      "C:\\Users\\Rich\\Anaconda2\\lib\\site-packages\\ipykernel\\__main__.py:3: SettingWithCopyWarning: \n",
      "A value is trying to be set on a copy of a slice from a DataFrame\n",
      "\n",
      "See the caveats in the documentation: http://pandas.pydata.org/pandas-docs/stable/indexing.html#indexing-view-versus-copy\n",
      "  app.launch_new_instance()\n",
      "C:\\Users\\Rich\\Anaconda2\\lib\\site-packages\\ipykernel\\__main__.py:4: SettingWithCopyWarning: \n",
      "A value is trying to be set on a copy of a slice from a DataFrame\n",
      "\n",
      "See the caveats in the documentation: http://pandas.pydata.org/pandas-docs/stable/indexing.html#indexing-view-versus-copy\n"
     ]
    },
    {
     "data": {
      "text/plain": [
       "B    50\n",
       "C    50\n",
       "A    50\n",
       "Name: type, dtype: int64"
      ]
     },
     "execution_count": 24,
     "metadata": {},
     "output_type": "execute_result"
    }
   ],
   "source": [
    "labeled_df = df\n",
    "labeled_df['type'][0:50] = 'A'\n",
    "labeled_df['type'][50:100] = 'B'\n",
    "labeled_df['type'][100:150] = 'C'\n",
    "labeled_df['type'].value_counts()"
   ]
  },
  {
   "cell_type": "markdown",
   "metadata": {},
   "source": [
    "### The validation_curve function in sklearn is used to both scan over the k parameter space and to perform the cross validation.  It returns the results of the model for the training and testing data sets, reporting the mean and the standard deviation of the folds."
   ]
  },
  {
   "cell_type": "code",
   "execution_count": 25,
   "metadata": {
    "collapsed": true
   },
   "outputs": [],
   "source": [
    "X, y = data, labeled_df['type']\n",
    "\n",
    "param_range = [1, 3, 5, 10, 20, 50, 75]\n",
    "train_scores, test_scores = validation_curve(\n",
    "    KNeighborsClassifier(), X, y, param_name=\"n_neighbors\", param_range=param_range,\n",
    "    cv=5, scoring=\"accuracy\", n_jobs=1)"
   ]
  },
  {
   "cell_type": "markdown",
   "metadata": {},
   "source": [
    "## Problem 3 a)\n",
    "### Visualize the results below by showing the training error as a function of k."
   ]
  },
  {
   "cell_type": "code",
   "execution_count": 26,
   "metadata": {
    "collapsed": false
   },
   "outputs": [
    {
     "data": {
      "image/png": "[encoded data removed]",
      "text/plain": [
       "<matplotlib.figure.Figure at 0x1b366710>"
      ]
     },
     "metadata": {},
     "output_type": "display_data"
    }
   ],
   "source": [
    "train_scores_mean = np.mean(train_scores, axis=1)\n",
    "train_scores_std = np.std(train_scores, axis=1)\n",
    "test_scores_mean = np.mean(test_scores, axis=1)\n",
    "test_scores_std = np.std(test_scores, axis=1)\n",
    "\n",
    "plt.title(\"Validation Curve with KNN\")\n",
    "plt.xlabel(\"k\")\n",
    "plt.ylabel(\"accuracy\")\n",
    "plt.ylim(0.5, 1.2)\n",
    "lw = 2\n",
    "plt.plot(param_range, train_scores_mean, label=\"Training score\",\n",
    "             color=\"darkorange\", lw=lw)\n",
    "plt.fill_between(param_range, train_scores_mean - train_scores_std,\n",
    "                 train_scores_mean + train_scores_std, alpha=0.2,\n",
    "                 color=\"darkorange\", lw=lw)\n",
    "plt.plot(param_range, test_scores_mean, label=\"Cross-validation score\",\n",
    "             color=\"navy\", lw=lw)\n",
    "plt.fill_between(param_range, test_scores_mean - test_scores_std,\n",
    "                 test_scores_mean + test_scores_std, alpha=0.2,\n",
    "                 color=\"navy\", lw=lw)\n",
    "plt.legend(loc=\"best\")\n",
    "plt.show()"
   ]
  },
  {
   "cell_type": "markdown",
   "metadata": {},
   "source": [
    "### In the above plot, the training score shows the prediction accuracy on the training set.  The cross-validation score shows the prediction accuracy tested against the hold out testing set."
   ]
  },
  {
   "cell_type": "markdown",
   "metadata": {},
   "source": [
    "## Problem 3 b)\n",
    "### The value of k best suited to make predictions is about 12.  This value is chosen because it is where the training and cross-validation accuracy values are similar and are large.  Additionally, this is where the standard deviation of the results from the different folds is the smallest (indicated by the blue band), indicating a fairly stable model.  The accuracy changes with k as k controls the complexity of the model.  The most complex model (meaning the most flexible boundaries) is achieved with k=1.  As can be seen in the above plot, this is where the training and cross validation accuracies diverge, with the training accuracy rising and the cross validation accuracy falling.  This is a sign of overfitting.  The model is fitting extremely well to the noise of the training data, but does not generalize as well to the unseen testing data, though the overfitting does not seem that drastic.  As k increases to larger values, the model does not have enough flexibility and as a result has larger bias and cannot interpret the overall trend.  The effect is that the accuracy for both the training and cross validation sets decrease."
   ]
  },
  {
   "cell_type": "code",
   "execution_count": null,
   "metadata": {
    "collapsed": true
   },
   "outputs": [],
   "source": []
  }
 ],
 "metadata": {
  "kernelspec": {
   "display_name": "Python 2",
   "language": "python",
   "name": "python2"
  },
  "language_info": {
   "codemirror_mode": {
    "name": "ipython",
    "version": 2
   },
   "file_extension": ".py",
   "mimetype": "text/x-python",
   "name": "python",
   "nbconvert_exporter": "python",
   "pygments_lexer": "ipython2",
   "version": "2.7.11"
  }
 },
 "nbformat": 4,
 "nbformat_minor": 0
}
